{
 "cells": [
  {
   "cell_type": "code",
   "execution_count": 1,
   "id": "6afc0581",
   "metadata": {},
   "outputs": [],
   "source": [
    "import numpy as np\n",
    "import pandas as pd\n",
    "from scipy.stats import ttest_ind\n",
    "from scipy.stats import pearsonr"
   ]
  },
  {
   "cell_type": "markdown",
   "id": "0afbdb38",
   "metadata": {},
   "source": [
    "#### 1. Reading Data"
   ]
  },
  {
   "cell_type": "code",
   "execution_count": 2,
   "id": "0c311275",
   "metadata": {},
   "outputs": [],
   "source": [
    "db_aq_20 = pd.read_excel('data/dublin_air_2020.xlsx')\n",
    "db_tr_20 = pd.read_excel('data/dublin_traffic_2020.xlsx')"
   ]
  },
  {
   "cell_type": "code",
   "execution_count": 3,
   "id": "bca5b318",
   "metadata": {},
   "outputs": [
    {
     "data": {
      "text/plain": [
       "0       2020-01-01 00:00:00 +01:00/2020-01-01 01:00:00...\n",
       "1       2020-01-01 01:00:00 +01:00/2020-01-01 02:00:00...\n",
       "2       2020-01-01 02:00:00 +01:00/2020-01-01 03:00:00...\n",
       "3       2020-01-01 03:00:00 +01:00/2020-01-01 04:00:00...\n",
       "4       2020-01-01 04:00:00 +01:00/2020-01-01 05:00:00...\n",
       "                              ...                        \n",
       "8779    2020-12-31 19:00:00 +01:00/2020-12-31 20:00:00...\n",
       "8780    2020-12-31 20:00:00 +01:00/2020-12-31 21:00:00...\n",
       "8781    2020-12-31 21:00:00 +01:00/2020-12-31 22:00:00...\n",
       "8782    2020-12-31 22:00:00 +01:00/2020-12-31 23:00:00...\n",
       "8783    2020-12-31 23:00:00 +01:00/2021-01-01 00:00:00...\n",
       "Name:  dateObserved__value_, Length: 8784, dtype: object"
      ]
     },
     "execution_count": 3,
     "metadata": {},
     "output_type": "execute_result"
    }
   ],
   "source": [
    "db_aq_20[' dateObserved__value_']"
   ]
  },
  {
   "cell_type": "markdown",
   "id": "91d663e0",
   "metadata": {},
   "source": [
    "#### 2. Selecting Required Columns and Rows"
   ]
  },
  {
   "cell_type": "code",
   "execution_count": 5,
   "id": "1c5d7670",
   "metadata": {},
   "outputs": [
    {
     "data": {
      "text/html": [
       "<div>\n",
       "<style scoped>\n",
       "    .dataframe tbody tr th:only-of-type {\n",
       "        vertical-align: middle;\n",
       "    }\n",
       "\n",
       "    .dataframe tbody tr th {\n",
       "        vertical-align: top;\n",
       "    }\n",
       "\n",
       "    .dataframe thead th {\n",
       "        text-align: right;\n",
       "    }\n",
       "</style>\n",
       "<table border=\"1\" class=\"dataframe\">\n",
       "  <thead>\n",
       "    <tr style=\"text-align: right;\">\n",
       "      <th></th>\n",
       "      <th>CO__value_</th>\n",
       "      <th>NO2__value_</th>\n",
       "      <th>SO2__value_</th>\n",
       "    </tr>\n",
       "  </thead>\n",
       "  <tbody>\n",
       "    <tr>\n",
       "      <th>0</th>\n",
       "      <td>0.50000</td>\n",
       "      <td>NaN</td>\n",
       "      <td>NaN</td>\n",
       "    </tr>\n",
       "    <tr>\n",
       "      <th>1</th>\n",
       "      <td>0.53824</td>\n",
       "      <td>37.8</td>\n",
       "      <td>2.92699</td>\n",
       "    </tr>\n",
       "    <tr>\n",
       "      <th>2</th>\n",
       "      <td>0.40368</td>\n",
       "      <td>32.1</td>\n",
       "      <td>2.39481</td>\n",
       "    </tr>\n",
       "    <tr>\n",
       "      <th>3</th>\n",
       "      <td>0.53824</td>\n",
       "      <td>20.8</td>\n",
       "      <td>2.39481</td>\n",
       "    </tr>\n",
       "    <tr>\n",
       "      <th>4</th>\n",
       "      <td>0.53824</td>\n",
       "      <td>31.7</td>\n",
       "      <td>2.12872</td>\n",
       "    </tr>\n",
       "    <tr>\n",
       "      <th>...</th>\n",
       "      <td>...</td>\n",
       "      <td>...</td>\n",
       "      <td>...</td>\n",
       "    </tr>\n",
       "    <tr>\n",
       "      <th>3643</th>\n",
       "      <td>0.26912</td>\n",
       "      <td>22.9</td>\n",
       "      <td>7.18443</td>\n",
       "    </tr>\n",
       "    <tr>\n",
       "      <th>3644</th>\n",
       "      <td>0.26912</td>\n",
       "      <td>12.2</td>\n",
       "      <td>7.45052</td>\n",
       "    </tr>\n",
       "    <tr>\n",
       "      <th>3645</th>\n",
       "      <td>0.26912</td>\n",
       "      <td>29.2</td>\n",
       "      <td>8.24879</td>\n",
       "    </tr>\n",
       "    <tr>\n",
       "      <th>3646</th>\n",
       "      <td>0.40368</td>\n",
       "      <td>39.7</td>\n",
       "      <td>7.18443</td>\n",
       "    </tr>\n",
       "    <tr>\n",
       "      <th>3647</th>\n",
       "      <td>0.40368</td>\n",
       "      <td>29.4</td>\n",
       "      <td>6.12007</td>\n",
       "    </tr>\n",
       "  </tbody>\n",
       "</table>\n",
       "<p>3648 rows × 3 columns</p>\n",
       "</div>"
      ],
      "text/plain": [
       "      CO__value_  NO2__value_   SO2__value_\n",
       "0        0.50000          NaN           NaN\n",
       "1        0.53824         37.8       2.92699\n",
       "2        0.40368         32.1       2.39481\n",
       "3        0.53824         20.8       2.39481\n",
       "4        0.53824         31.7       2.12872\n",
       "...          ...          ...           ...\n",
       "3643     0.26912         22.9       7.18443\n",
       "3644     0.26912         12.2       7.45052\n",
       "3645     0.26912         29.2       8.24879\n",
       "3646     0.40368         39.7       7.18443\n",
       "3647     0.40368         29.4       6.12007\n",
       "\n",
       "[3648 rows x 3 columns]"
      ]
     },
     "execution_count": 5,
     "metadata": {},
     "output_type": "execute_result"
    }
   ],
   "source": [
    "# Selecting the specified columns and first 3648 rows (until 31.05.2020)\n",
    "dfa = db_aq_20[['CO__value_','NO2__value_',' SO2__value_']].iloc[:3648,:]\n",
    "dfa"
   ]
  },
  {
   "cell_type": "code",
   "execution_count": 6,
   "id": "79374b93",
   "metadata": {},
   "outputs": [
    {
     "data": {
      "text/html": [
       "<div>\n",
       "<style scoped>\n",
       "    .dataframe tbody tr th:only-of-type {\n",
       "        vertical-align: middle;\n",
       "    }\n",
       "\n",
       "    .dataframe tbody tr th {\n",
       "        vertical-align: top;\n",
       "    }\n",
       "\n",
       "    .dataframe thead th {\n",
       "        text-align: right;\n",
       "    }\n",
       "</style>\n",
       "<table border=\"1\" class=\"dataframe\">\n",
       "  <thead>\n",
       "    <tr style=\"text-align: right;\">\n",
       "      <th></th>\n",
       "      <th>SumOfSumVolume</th>\n",
       "    </tr>\n",
       "  </thead>\n",
       "  <tbody>\n",
       "    <tr>\n",
       "      <th>0</th>\n",
       "      <td>13810</td>\n",
       "    </tr>\n",
       "    <tr>\n",
       "      <th>1</th>\n",
       "      <td>19016</td>\n",
       "    </tr>\n",
       "    <tr>\n",
       "      <th>2</th>\n",
       "      <td>22224</td>\n",
       "    </tr>\n",
       "    <tr>\n",
       "      <th>3</th>\n",
       "      <td>19145</td>\n",
       "    </tr>\n",
       "    <tr>\n",
       "      <th>4</th>\n",
       "      <td>15802</td>\n",
       "    </tr>\n",
       "    <tr>\n",
       "      <th>...</th>\n",
       "      <td>...</td>\n",
       "    </tr>\n",
       "    <tr>\n",
       "      <th>147</th>\n",
       "      <td>14690</td>\n",
       "    </tr>\n",
       "    <tr>\n",
       "      <th>148</th>\n",
       "      <td>14175</td>\n",
       "    </tr>\n",
       "    <tr>\n",
       "      <th>149</th>\n",
       "      <td>15267</td>\n",
       "    </tr>\n",
       "    <tr>\n",
       "      <th>150</th>\n",
       "      <td>10856</td>\n",
       "    </tr>\n",
       "    <tr>\n",
       "      <th>151</th>\n",
       "      <td>8980</td>\n",
       "    </tr>\n",
       "  </tbody>\n",
       "</table>\n",
       "<p>152 rows × 1 columns</p>\n",
       "</div>"
      ],
      "text/plain": [
       "     SumOfSumVolume\n",
       "0             13810\n",
       "1             19016\n",
       "2             22224\n",
       "3             19145\n",
       "4             15802\n",
       "..              ...\n",
       "147           14690\n",
       "148           14175\n",
       "149           15267\n",
       "150           10856\n",
       "151            8980\n",
       "\n",
       "[152 rows x 1 columns]"
      ]
     },
     "execution_count": 6,
     "metadata": {},
     "output_type": "execute_result"
    }
   ],
   "source": [
    "# Selecting the specified columns and first 152 rows (until 31 May)\n",
    "dft = db_tr_20[['SumOfSumVolume']].iloc[:152,:]\n",
    "dft"
   ]
  },
  {
   "cell_type": "markdown",
   "id": "18c74a64",
   "metadata": {},
   "source": [
    "#### 3. Checking and filling the missing values"
   ]
  },
  {
   "cell_type": "code",
   "execution_count": 7,
   "id": "81a300c1",
   "metadata": {},
   "outputs": [
    {
     "data": {
      "text/plain": [
       "CO__value_       8\n",
       "NO2__value_     12\n",
       " SO2__value_    13\n",
       "dtype: int64"
      ]
     },
     "execution_count": 7,
     "metadata": {},
     "output_type": "execute_result"
    }
   ],
   "source": [
    "#Checking missing values\n",
    "dfa.isnull().sum()"
   ]
  },
  {
   "cell_type": "code",
   "execution_count": 8,
   "id": "59b47b73",
   "metadata": {},
   "outputs": [
    {
     "data": {
      "text/plain": [
       "SumOfSumVolume    0\n",
       "dtype: int64"
      ]
     },
     "execution_count": 8,
     "metadata": {},
     "output_type": "execute_result"
    }
   ],
   "source": [
    "#Checking missing values\n",
    "dft.isnull().sum()"
   ]
  },
  {
   "cell_type": "code",
   "execution_count": 9,
   "id": "2ce9bf7a",
   "metadata": {},
   "outputs": [],
   "source": [
    "# Filling missing values with 0\n",
    "dfa1 = dfa.fillna(0);\n",
    "dft1 = dft.fillna(0);"
   ]
  },
  {
   "cell_type": "markdown",
   "id": "9617a3dc",
   "metadata": {},
   "source": [
    "#### 4. Groupby 24 for Air Quality Data"
   ]
  },
  {
   "cell_type": "code",
   "execution_count": 10,
   "id": "ddddcb23",
   "metadata": {
    "scrolled": true
   },
   "outputs": [
    {
     "name": "stderr",
     "output_type": "stream",
     "text": [
      "/var/folders/nl/1bxm2b0s3j7f15g_30xsck8r0000gn/T/ipykernel_41874/3731954039.py:3: FutureWarning: The 'axis' keyword in DataFrame.groupby is deprecated and will be removed in a future version.\n",
      "  dfa2 = dfa1.groupby(np.arange(len(dfa1.index))//N, axis=0).mean()\n"
     ]
    },
    {
     "data": {
      "text/html": [
       "<div>\n",
       "<style scoped>\n",
       "    .dataframe tbody tr th:only-of-type {\n",
       "        vertical-align: middle;\n",
       "    }\n",
       "\n",
       "    .dataframe tbody tr th {\n",
       "        vertical-align: top;\n",
       "    }\n",
       "\n",
       "    .dataframe thead th {\n",
       "        text-align: right;\n",
       "    }\n",
       "</style>\n",
       "<table border=\"1\" class=\"dataframe\">\n",
       "  <thead>\n",
       "    <tr style=\"text-align: right;\">\n",
       "      <th></th>\n",
       "      <th>CO__value_</th>\n",
       "      <th>NO2__value_</th>\n",
       "      <th>SO2__value_</th>\n",
       "    </tr>\n",
       "  </thead>\n",
       "  <tbody>\n",
       "    <tr>\n",
       "      <th>0</th>\n",
       "      <td>0.699240</td>\n",
       "      <td>38.225000</td>\n",
       "      <td>4.190917</td>\n",
       "    </tr>\n",
       "    <tr>\n",
       "      <th>1</th>\n",
       "      <td>0.459747</td>\n",
       "      <td>25.558333</td>\n",
       "      <td>3.935915</td>\n",
       "    </tr>\n",
       "    <tr>\n",
       "      <th>2</th>\n",
       "      <td>0.409287</td>\n",
       "      <td>23.641667</td>\n",
       "      <td>1.663062</td>\n",
       "    </tr>\n",
       "    <tr>\n",
       "      <th>3</th>\n",
       "      <td>0.409287</td>\n",
       "      <td>12.125000</td>\n",
       "      <td>1.541105</td>\n",
       "    </tr>\n",
       "    <tr>\n",
       "      <th>4</th>\n",
       "      <td>0.403680</td>\n",
       "      <td>7.950000</td>\n",
       "      <td>1.574366</td>\n",
       "    </tr>\n",
       "    <tr>\n",
       "      <th>...</th>\n",
       "      <td>...</td>\n",
       "      <td>...</td>\n",
       "      <td>...</td>\n",
       "    </tr>\n",
       "    <tr>\n",
       "      <th>147</th>\n",
       "      <td>0.269120</td>\n",
       "      <td>19.141667</td>\n",
       "      <td>2.317200</td>\n",
       "    </tr>\n",
       "    <tr>\n",
       "      <th>148</th>\n",
       "      <td>0.308367</td>\n",
       "      <td>23.904167</td>\n",
       "      <td>3.991350</td>\n",
       "    </tr>\n",
       "    <tr>\n",
       "      <th>149</th>\n",
       "      <td>0.285940</td>\n",
       "      <td>18.683333</td>\n",
       "      <td>4.202005</td>\n",
       "    </tr>\n",
       "    <tr>\n",
       "      <th>150</th>\n",
       "      <td>0.280333</td>\n",
       "      <td>24.658333</td>\n",
       "      <td>6.086809</td>\n",
       "    </tr>\n",
       "    <tr>\n",
       "      <th>151</th>\n",
       "      <td>0.302760</td>\n",
       "      <td>15.145833</td>\n",
       "      <td>6.397247</td>\n",
       "    </tr>\n",
       "  </tbody>\n",
       "</table>\n",
       "<p>152 rows × 3 columns</p>\n",
       "</div>"
      ],
      "text/plain": [
       "     CO__value_  NO2__value_   SO2__value_\n",
       "0      0.699240    38.225000      4.190917\n",
       "1      0.459747    25.558333      3.935915\n",
       "2      0.409287    23.641667      1.663062\n",
       "3      0.409287    12.125000      1.541105\n",
       "4      0.403680     7.950000      1.574366\n",
       "..          ...          ...           ...\n",
       "147    0.269120    19.141667      2.317200\n",
       "148    0.308367    23.904167      3.991350\n",
       "149    0.285940    18.683333      4.202005\n",
       "150    0.280333    24.658333      6.086809\n",
       "151    0.302760    15.145833      6.397247\n",
       "\n",
       "[152 rows x 3 columns]"
      ]
     },
     "execution_count": 10,
     "metadata": {},
     "output_type": "execute_result"
    }
   ],
   "source": [
    "# Groupby 24, 24 hours = 1 day for air quality data only\n",
    "N = 24\n",
    "dfa2 = dfa1.groupby(np.arange(len(dfa1.index))//N, axis=0).mean()\n",
    "dfa2"
   ]
  },
  {
   "cell_type": "markdown",
   "id": "90d63c28",
   "metadata": {},
   "source": [
    "#### 5. Calculating Correlation Coefficient"
   ]
  },
  {
   "cell_type": "code",
   "execution_count": 11,
   "id": "a19e59d2",
   "metadata": {
    "scrolled": false
   },
   "outputs": [],
   "source": [
    "#pearsonr(dfa2['CO__value_'], dft1['SumOfSumVolume'])"
   ]
  },
  {
   "cell_type": "code",
   "execution_count": 12,
   "id": "685c291e",
   "metadata": {},
   "outputs": [
    {
     "data": {
      "text/plain": [
       "SumOfSumVolume    0.063467\n",
       "dtype: float64"
      ]
     },
     "execution_count": 12,
     "metadata": {},
     "output_type": "execute_result"
    }
   ],
   "source": [
    "dft1.corrwith(dfa2['CO__value_'], axis = 0)"
   ]
  },
  {
   "cell_type": "code",
   "execution_count": 13,
   "id": "dab68781",
   "metadata": {},
   "outputs": [
    {
     "data": {
      "text/plain": [
       "SumOfSumVolume    0.353524\n",
       "dtype: float64"
      ]
     },
     "execution_count": 13,
     "metadata": {},
     "output_type": "execute_result"
    }
   ],
   "source": [
    "dft1.corrwith(dfa2['NO2__value_'], axis = 0)"
   ]
  },
  {
   "cell_type": "code",
   "execution_count": 14,
   "id": "dac283fb",
   "metadata": {},
   "outputs": [
    {
     "data": {
      "text/plain": [
       "SumOfSumVolume    0.146764\n",
       "dtype: float64"
      ]
     },
     "execution_count": 14,
     "metadata": {},
     "output_type": "execute_result"
    }
   ],
   "source": [
    "dft1.corrwith(dfa2[' SO2__value_'], axis = 0)"
   ]
  },
  {
   "cell_type": "markdown",
   "id": "5faf6ebb",
   "metadata": {},
   "source": [
    "#### 6. Calculating P value between Traffic and Air Quality"
   ]
  },
  {
   "cell_type": "code",
   "execution_count": 15,
   "id": "1c1b9da6",
   "metadata": {
    "scrolled": true
   },
   "outputs": [],
   "source": [
    "# ttest_ind(dfa2['CO__value_'], dft1, equal_var=False).pvalue"
   ]
  },
  {
   "cell_type": "code",
   "execution_count": 16,
   "id": "ae47e735",
   "metadata": {
    "scrolled": true
   },
   "outputs": [
    {
     "data": {
      "text/plain": [
       "array([4.22862690e-53, 4.76389489e-53, 4.34827624e-53])"
      ]
     },
     "execution_count": 16,
     "metadata": {},
     "output_type": "execute_result"
    }
   ],
   "source": [
    "ttest_ind(dft1, dfa2, equal_var= False).pvalue"
   ]
  }
 ],
 "metadata": {
  "kernelspec": {
   "display_name": ".venv",
   "language": "python",
   "name": "python3"
  },
  "language_info": {
   "codemirror_mode": {
    "name": "ipython",
    "version": 3
   },
   "file_extension": ".py",
   "mimetype": "text/x-python",
   "name": "python",
   "nbconvert_exporter": "python",
   "pygments_lexer": "ipython3",
   "version": "3.11.6"
  }
 },
 "nbformat": 4,
 "nbformat_minor": 5
}
